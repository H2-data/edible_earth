{
  "cells": [
    {
      "cell_type": "markdown",
      "id": "d7c006a9-a061-4d44-96cc-f435dad0cce3",
      "metadata": {
        "id": "d7c006a9-a061-4d44-96cc-f435dad0cce3"
      },
      "source": [
        "###**Context:**"
      ]
    },
    {
      "cell_type": "markdown",
      "source": [
        "Geophagy is the practice of intentionally consuming soil for medicinal, nutritious or cultural reasons. The Museum of Edible Earth is a collection of samples of geophagic minerals and soils. It is a travelling exhibition that displays these minerals and information about them and the cultures they come from worldwide, seeking to enlighten people about the inner workings of this uncommon cultural practice. The information includes things such as color, taste and texture, among several other mineral qualities."
      ],
      "metadata": {
        "id": "sFj26LuMTc50"
      },
      "id": "sFj26LuMTc50"
    },
    {
      "cell_type": "markdown",
      "id": "c04f7804-0ae0-457c-b34c-06a11ca7ccdf",
      "metadata": {
        "id": "c04f7804-0ae0-457c-b34c-06a11ca7ccdf"
      },
      "source": [
        "###**Objectives:**"
      ]
    },
    {
      "cell_type": "markdown",
      "source": [
        "\n",
        "There are two goals to be accomplished in this analysis.\n",
        "\n",
        "**1. Encode the taste and texture data:**\n",
        "\n",
        "One of the unique aspects the data is that the taste and texture data is primarily found through online reviews. People who have tasted the mineral can go to the website, leave a comment, and any flavor/texture description on that comment is put into a small wordcloud on that mineral's description page. Therefore, the website does not distinguish a 'taste' quality from a 'texture' quality, and since it's based on comments, there's over 500 unique values. One of the goals will be to summarize this spectrum of flavors into 20 unique tastes and 20 unique textures that can be more easily anaylzed and visualized.\n",
        "\n",
        "**2. Answer key questions regarding the dataset, including:**\n",
        "\n",
        "- What are the distributions of the different sample qualities? How do they correlate?\n",
        "- What are the most common countries, acquisition methods and acquisition dates of sample collection in the dataset?\n",
        "\n",
        "Since the dataset is very small, most of this will be focused on overall distributions, but if a correlation is found, it will be noted."
      ],
      "metadata": {
        "id": "b9V4r_-2TlVF"
      },
      "id": "b9V4r_-2TlVF"
    },
    {
      "cell_type": "markdown",
      "id": "93faea24-9afe-4f06-8386-b9e467adb142",
      "metadata": {
        "id": "93faea24-9afe-4f06-8386-b9e467adb142"
      },
      "source": [
        "###**Data Dictionary:**"
      ]
    },
    {
      "cell_type": "markdown",
      "source": [
        "**SKU**: This has been converted to the dataset index. <br>\n",
        "**Name**: The name of the sample. <br>\n",
        "**Country**: The country from where the sample was acquired. (Not necessarily country of origin.) <br>\n",
        "**Color**: The color of the sample. <br>\n",
        "**Shape**: The shape of the sample. <br>\n",
        "**Composition**: The composition of the sample. <br>\n",
        "**Acq Method**: How the sample was acquired (eg, at a market or online). <br>\n",
        "**OG_Date**: The original date of sample acquisition from the master dataset. <br>\n",
        "**Acq Date**: The day, month and year of sample acquisition with proper formatting. <br>\n",
        "**Acq Month**: The month of sample acquisition. <br>\n",
        "**Acq Year**: The year of sample acquisition. <br>\n",
        "**Tags**: The original taste and texture qualities from the website catalog. <br>\n",
        "**Taste**: The sample's encoded flavor profile. <br>\n",
        "**Texture**: The sample's encoded mouthfeel and texture. <br>\n",
        "**Edibility**: Whether or not the sample is edible. <br>"
      ],
      "metadata": {
        "id": "gNLHlb5rUCcP"
      },
      "id": "gNLHlb5rUCcP"
    }
  ],
  "metadata": {
    "kernelspec": {
      "display_name": "Python 3 (ipykernel)",
      "language": "python",
      "name": "python3"
    },
    "language_info": {
      "codemirror_mode": {
        "name": "ipython",
        "version": 3
      },
      "file_extension": ".py",
      "mimetype": "text/x-python",
      "name": "python",
      "nbconvert_exporter": "python",
      "pygments_lexer": "ipython3",
      "version": "3.12.5"
    },
    "colab": {
      "provenance": [],
      "collapsed_sections": [
        "d7c006a9-a061-4d44-96cc-f435dad0cce3",
        "c04f7804-0ae0-457c-b34c-06a11ca7ccdf",
        "93faea24-9afe-4f06-8386-b9e467adb142"
      ]
    }
  },
  "nbformat": 4,
  "nbformat_minor": 5
}